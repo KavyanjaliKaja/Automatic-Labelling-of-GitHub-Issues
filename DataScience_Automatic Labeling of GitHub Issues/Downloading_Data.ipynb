{
 "cells": [
  {
   "cell_type": "code",
   "execution_count": 1,
   "id": "d46290bb",
   "metadata": {},
   "outputs": [],
   "source": [
    "import requests\n",
    "import gzip\n",
    "import shutil\n",
    "import os\n",
    "import json\n",
    "import io"
   ]
  },
  {
   "cell_type": "code",
   "execution_count": 2,
   "id": "d41756dc",
   "metadata": {},
   "outputs": [
    {
     "name": "stdout",
     "output_type": "stream",
     "text": [
      "Total number of events: 23100\n"
     ]
    }
   ],
   "source": [
    "def download_and_extract_data(url_template, archive_dir, raw_dir):\n",
    "\n",
    "    os.makedirs(archive_dir, exist_ok=True)\n",
    "\n",
    "    os.makedirs(raw_dir, exist_ok=True)\n",
    "\n",
    " \n",
    "\n",
    "    for hour in range(15, 17):\n",
    "\n",
    "        url = url_template.format(hour)\n",
    "\n",
    "        response = requests.get(url, stream=True)\n",
    "\n",
    "        if response.status_code == 200:\n",
    "\n",
    "            archive_path = os.path.join(archive_dir, f\"data_{hour}.json.gz\")\n",
    "\n",
    "            raw_path = os.path.join(raw_dir, f\"data_{hour}.json\")\n",
    "\n",
    "\n",
    "            with open(archive_path, 'wb') as f:\n",
    "\n",
    "                f.write(response.raw.read())\n",
    "\n",
    " \n",
    "\n",
    "            with gzip.open(archive_path, 'rb') as f_in:\n",
    "\n",
    "                with open(raw_path, 'wb') as f_out:\n",
    "\n",
    "                    shutil.copyfileobj(f_in, f_out)\n",
    "\n",
    " \n",
    "\n",
    "    # Read the JSON files and store the data\n",
    "\n",
    "    data = []\n",
    "\n",
    "    for hour in range(15, 17):\n",
    "\n",
    "        raw_path = os.path.join(raw_dir, f\"data_{hour}.json\")\n",
    "\n",
    "        with open(raw_path, 'rb') as json_file:\n",
    "\n",
    "            data.extend([json.loads(line) for line in json_file])\n",
    "\n",
    " \n",
    "\n",
    "    return data\n",
    "\n",
    " \n",
    "\n",
    "# Set the URL template and directories\n",
    "\n",
    "url_template = \"https://data.gharchive.org/2015-01-01-{0}.json.gz\"\n",
    "\n",
    "archive_dir = \"archive\"\n",
    "\n",
    "raw_dir = \"raw\"\n",
    "\n",
    " \n",
    "\n",
    "# Call the function to download and extract data\n",
    "\n",
    "data = download_and_extract_data(url_template, archive_dir, raw_dir)\n",
    "\n",
    " \n",
    "\n",
    "# Print the number of events retrieved\n",
    "\n",
    "print(\"Total number of events:\", len(data))"
   ]
  },
  {
   "cell_type": "code",
   "execution_count": null,
   "id": "b1f415bb",
   "metadata": {},
   "outputs": [],
   "source": []
  }
 ],
 "metadata": {
  "kernelspec": {
   "display_name": "Python 3 (ipykernel)",
   "language": "python",
   "name": "python3"
  },
  "language_info": {
   "codemirror_mode": {
    "name": "ipython",
    "version": 3
   },
   "file_extension": ".py",
   "mimetype": "text/x-python",
   "name": "python",
   "nbconvert_exporter": "python",
   "pygments_lexer": "ipython3",
   "version": "3.11.5"
  }
 },
 "nbformat": 4,
 "nbformat_minor": 5
}
